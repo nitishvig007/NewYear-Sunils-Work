{
 "cells": [
  {
   "cell_type": "markdown",
   "metadata": {},
   "source": [
    "# File Handling and Directory - 2"
   ]
  },
  {
   "cell_type": "markdown",
   "metadata": {},
   "source": [
    "## Directory / FOLDER : \n",
    "- Its a collection of files and folders\n",
    "- PATH\n",
    "- import os\n",
    "- create, delete, rename"
   ]
  },
  {
   "cell_type": "code",
   "execution_count": 1,
   "metadata": {},
   "outputs": [
    {
     "name": "stdout",
     "output_type": "stream",
     "text": [
      "C:\\Users\\Nitish\\Desktop\\PP\\Python-DS , 12.08.22\\Day13 - 08.09.22\n"
     ]
    }
   ],
   "source": [
    "# 1. Current Working Directory\n",
    "\n",
    "import os\n",
    "print( os.getcwd() )\n"
   ]
  },
  {
   "cell_type": "code",
   "execution_count": 5,
   "metadata": {},
   "outputs": [
    {
     "name": "stdout",
     "output_type": "stream",
     "text": [
      "Current Working Directory = C:\\Users\\Nitish\\Desktop\\PP\\Python-DS , 12.08.22\\Day13 - 08.09.22 \n",
      "\n",
      "Python has a simple syntax similar to the English language. Python has syntax that allows developers to write programs with fewer lines than some other programming languages. Python runs on an interpreter system, meaning that code can be executed as soon as it is written.\n"
     ]
    }
   ],
   "source": [
    "# Read the File in Same folder..\n",
    "\n",
    "import os\n",
    "print( f\"Current Working Directory = {os.getcwd()} \\n\" )\n",
    "fileName = 'myFile.txt'\n",
    "f = open(fileName, 'r')\n",
    "print(f.read())\n",
    "f.close()"
   ]
  },
  {
   "cell_type": "code",
   "execution_count": 10,
   "metadata": {},
   "outputs": [
    {
     "name": "stdout",
     "output_type": "stream",
     "text": [
      "Current Working Directory = C:\\Users\\Nitish\\Desktop\\PP\\Python-DS , 12.08.22\\Day13 - 08.09.22 \n",
      "\n",
      "Python has a simple syntax similar to the English language. Python has syntax that allows developers to write programs with fewer lines than some other programming languages. Python runs on an interpreter system, meaning that code can be executed as soon as it is written.\n",
      "\n",
      "\n",
      " Current Working Directory = C:\\Users\\Nitish\\Desktop\\PP\\Python-DS , 12.08.22\\Day13 - 08.09.22 \n",
      "\n"
     ]
    }
   ],
   "source": [
    "# Read the File in Python folder..\n",
    "\n",
    "import os\n",
    "print( f\"Current Working Directory = {os.getcwd()} \\n\" )\n",
    "path = \"Python\"\n",
    "fileName = 'data.txt'\n",
    "f = open(path + '\\\\' + fileName, 'r')\n",
    "print(f.read())\n",
    "f.close()\n",
    "\n",
    "print( f\"\\n\\n Current Working Directory = {os.getcwd()} \\n\" )\n"
   ]
  },
  {
   "cell_type": "code",
   "execution_count": 11,
   "metadata": {},
   "outputs": [
    {
     "name": "stdout",
     "output_type": "stream",
     "text": [
      "Current Working Directory = C:\\Users\\Nitish\\Desktop\\PP\\Python-DS , 12.08.22\\Day13 - 08.09.22 \n",
      "\n",
      "Python has a simple syntax similar to the English language. Python has syntax that allows developers to write programs with fewer lines than some other programming languages. Python runs on an interpreter system, meaning that code can be executed as soon as it is written.\n",
      "\n",
      "\n",
      " Current Working Directory = C:\\Users\\Nitish\\Desktop\\PP\\Python-DS , 12.08.22\\Day13 - 08.09.22 \n",
      "\n"
     ]
    }
   ],
   "source": [
    "# Read the File in Python Sub-folder \"box\"..\n",
    "\n",
    "import os\n",
    "print( f\"Current Working Directory = {os.getcwd()} \\n\" )\n",
    "parentFolder = \"Python\"\n",
    "childFolder = \"box\"\n",
    "fileName = 'Delhi.txt'\n",
    "f = open(parentFolder + \"\\\\\" + childFolder + '\\\\' + fileName, 'r')\n",
    "print(f.read())\n",
    "f.close()\n",
    "\n",
    "print( f\"\\n\\n Current Working Directory = {os.getcwd()} \\n\" )\n"
   ]
  },
  {
   "cell_type": "code",
   "execution_count": null,
   "metadata": {},
   "outputs": [],
   "source": []
  },
  {
   "cell_type": "code",
   "execution_count": 13,
   "metadata": {},
   "outputs": [
    {
     "name": "stdout",
     "output_type": "stream",
     "text": [
      "Current Working Directory = C:\\Users\\Nitish\\Desktop\\PP\\Python-DS , 12.08.22\\Day13 - 08.09.22 \n",
      "\n",
      "Python has a simple syntax similar to the English language. Python has syntax that allows developers to write programs with fewer lines than some other programming languages. Python runs on an interpreter system, meaning that code can be executed as soon as it is written.\n",
      "\n",
      "\n",
      " Current Working Directory = C:\\Users\\Nitish\\Desktop\\PP\\Python-DS , 12.08.22\\Day13 - 08.09.22 \n",
      "\n"
     ]
    }
   ],
   "source": [
    "# Read the File in Python Sub-folder \"box\" by using THe Path..\n",
    "\n",
    "import os\n",
    "print( f\"Current Working Directory = {os.getcwd()} \\n\" )\n",
    "\n",
    "\n",
    "path = \"C:\\\\Users\\\\Nitish\\\\Desktop\\\\PP\\\\Python-DS , 12.08.22\\\\Day13 - 08.09.22\\\\Python\\\\box\"\n",
    "fileName = 'Delhi.txt'\n",
    "f = open(path + '\\\\' + fileName, 'r')\n",
    "print(f.read())\n",
    "f.close()\n",
    "\n",
    "print( f\"\\n\\n Current Working Directory = {os.getcwd()} \\n\" )\n"
   ]
  },
  {
   "cell_type": "code",
   "execution_count": 14,
   "metadata": {},
   "outputs": [
    {
     "name": "stdout",
     "output_type": "stream",
     "text": [
      "Current Working Directory = C:\\Users\\Nitish\\Desktop\\PP\\Python-DS , 12.08.22\\Day13 - 08.09.22 \n",
      "\n",
      "Python has a simple syntax similar to the English language. Python has syntax that allows developers to write programs with fewer lines than some other programming languages. Python runs on an interpreter system, meaning that code can be executed as soon as it is written.\n",
      "\n",
      "\n",
      " Current Working Directory = C:\\Users\\Nitish\\Desktop\\PP\\Python-DS , 12.08.22\\Day13 - 08.09.22 \n",
      "\n"
     ]
    }
   ],
   "source": [
    "# Read the File in Python Sub-folder \"box\" by using THe Path..\n",
    "\n",
    "import os\n",
    "print( f\"Current Working Directory = {os.getcwd()} \\n\" )\n",
    "\n",
    "\n",
    "fileName = 'Delhi.txt'\n",
    "f = open( os.path.join(  os.getcwd(), \"Python\", \"box\", fileName ) , 'r')\n",
    "print(f.read())\n",
    "f.close()\n",
    "\n",
    "print( f\"\\n\\n Current Working Directory = {os.getcwd()} \\n\" )\n"
   ]
  },
  {
   "cell_type": "code",
   "execution_count": null,
   "metadata": {},
   "outputs": [],
   "source": []
  },
  {
   "cell_type": "code",
   "execution_count": 15,
   "metadata": {},
   "outputs": [
    {
     "name": "stdout",
     "output_type": "stream",
     "text": [
      "Current Working Directory = C:\\Users\\Nitish\\Desktop\\PP\\Python-DS , 12.08.22\\Day13 - 08.09.22 \n",
      "\n",
      "Python has a simple syntax similar to the English language. Python has syntax that allows developers to write programs with fewer lines than some other programming languages. Python runs on an interpreter system, meaning that code can be executed as soon as it is written.\n",
      "\n",
      "\n",
      " Current Working Directory = C:\\Users\\Nitish\\Desktop\\PP\\Python-DS , 12.08.22\\Day13 - 08.09.22 \n",
      "\n"
     ]
    }
   ],
   "source": [
    "# Read the File in Python Sub-folder \"box\" by using THe Path..\n",
    "\n",
    "import os\n",
    "print( f\"Current Working Directory = {os.getcwd()} \\n\" )\n",
    "\n",
    "\n",
    "fileName = 'Delhi.txt'\n",
    "f = open( os.path.join(  os.getcwd(), \"Python\", \"box\", fileName ) , 'r')\n",
    "print(f.read())\n",
    "\n",
    "\n",
    "f = open(\"NewFile.txt\", 'w')\n",
    "f.write(\"Hey Class. This is the New File\")\n",
    "f.close()\n",
    "\n",
    "print( f\"\\n\\n Current Working Directory = {os.getcwd()} \\n\" )\n"
   ]
  },
  {
   "cell_type": "code",
   "execution_count": null,
   "metadata": {},
   "outputs": [],
   "source": []
  },
  {
   "cell_type": "code",
   "execution_count": null,
   "metadata": {},
   "outputs": [],
   "source": []
  },
  {
   "cell_type": "code",
   "execution_count": 17,
   "metadata": {},
   "outputs": [],
   "source": [
    "# 2. Change the Working Directory\n",
    "\n",
    "# -  It moves the cursor into the Folder / Path\n",
    "# Syntax : os.chdir(\"folderName\") \n",
    "# Syntax : os.chdir(\"path\") "
   ]
  },
  {
   "cell_type": "code",
   "execution_count": 16,
   "metadata": {},
   "outputs": [
    {
     "name": "stdout",
     "output_type": "stream",
     "text": [
      "Current Working Directory = C:\\Users\\Nitish\\Desktop\\PP\\Python-DS , 12.08.22\\Day13 - 08.09.22 \n",
      "\n",
      "None\n",
      "Current Working Directory = C:\\Users\\Nitish\\Desktop\\PP\\Python-DS , 12.08.22\\Day13 - 08.09.22\\Python \n",
      "\n"
     ]
    }
   ],
   "source": [
    "# Creating the fruits.txt file in the Python folder\n",
    "import os\n",
    "\n",
    "print( f\"Current Working Directory = {os.getcwd()} \\n\" )\n",
    "print( os.chdir(\"Python\") )\n",
    "\n",
    "f = open(\"fruits.txt\", 'w')\n",
    "f.write(\"Mango\")\n",
    "f.write(\"\\n\")\n",
    "f.write(\"apple\")\n",
    "f.write(\"\\n\")\n",
    "f.write(\"banana\")\n",
    "f.write(\"\\n\")\n",
    "f.write(\"grapes\")\n",
    "f.write(\"\\n\")\n",
    "f.write(\"cherry\")\n",
    "\n",
    "f.close()\n",
    "print( f\"Current Working Directory = {os.getcwd()} \\n\" )\n",
    "\n"
   ]
  },
  {
   "cell_type": "code",
   "execution_count": 19,
   "metadata": {},
   "outputs": [
    {
     "name": "stdout",
     "output_type": "stream",
     "text": [
      "Current Working Directory = C:\\Users\\Nitish\\Desktop\\ClassSeptember \n",
      "\n",
      "None\n",
      "Current Working Directory = C:\\Users\\Nitish\\Desktop\\ClassSeptember \n",
      "\n"
     ]
    }
   ],
   "source": [
    "# Creating the fruits.txt file in the Desktop folder\n",
    "\n",
    "import os\n",
    "print( f\"Current Working Directory = {os.getcwd()} \\n\" )\n",
    "print( os.chdir(\"C:\\\\Users\\\\Nitish\\\\Desktop\\\\ClassSeptember\") )\n",
    "\n",
    "f = open(\"fruits.txt\", 'w')\n",
    "f.write(\"Mango\")\n",
    "f.write(\"\\n\")\n",
    "f.write(\"apple\")\n",
    "f.write(\"\\n\")\n",
    "f.write(\"banana\")\n",
    "f.write(\"\\n\")\n",
    "f.write(\"grapes\")\n",
    "f.write(\"\\n\")\n",
    "f.write(\"cherry\")\n",
    "\n",
    "f.close()\n",
    "print( f\"Current Working Directory = {os.getcwd()} \\n\" )\n",
    "\n"
   ]
  },
  {
   "cell_type": "code",
   "execution_count": 22,
   "metadata": {},
   "outputs": [
    {
     "name": "stdout",
     "output_type": "stream",
     "text": [
      "Current Working Directory = C:\\Users\\Nitish\\Desktop\\PP\\Python-DS , 12.08.22\\Day13 - 08.09.22 \n",
      "\n",
      "Current Working Directory = C:\\Users\\Nitish\\Desktop\\PP\\Python-DS , 12.08.22\\Day13 - 08.09.22 \n",
      "\n"
     ]
    }
   ],
   "source": [
    "# Creating the fruits.txt file in the Python folder and come back to the parent Folder\n",
    "\n",
    "import os\n",
    "print( f\"Current Working Directory = {os.getcwd()} \\n\" )\n",
    "os.chdir(\"C:\\\\Users\\\\Nitish\\\\Desktop\\\\PP\\\\Python-DS , 12.08.22\\\\Day13 - 08.09.22\\\\Python\")\n",
    "\n",
    "f = open(\"fruits.txt\", 'w')\n",
    "f.write(\"Mango\")\n",
    "f.write(\"\\n\")\n",
    "f.write(\"apple\")\n",
    "f.write(\"\\n\")\n",
    "f.write(\"banana\")\n",
    "f.write(\"\\n\")\n",
    "f.write(\"grapes\")\n",
    "f.write(\"\\n\")\n",
    "f.write(\"cherry\")\n",
    "\n",
    "f.close()\n",
    "\n",
    "os.chdir(\"C:\\\\Users\\\\Nitish\\\\Desktop\\\\PP\\\\Python-DS , 12.08.22\\\\Day13 - 08.09.22\")\n",
    "print( f\"Current Working Directory = {os.getcwd()} \\n\" )\n",
    "\n"
   ]
  },
  {
   "cell_type": "code",
   "execution_count": 24,
   "metadata": {},
   "outputs": [
    {
     "name": "stdout",
     "output_type": "stream",
     "text": [
      "Current Working Directory = C:\\Users\\Nitish\\Desktop\\PP\\Python-DS , 12.08.22\\Day13 - 08.09.22 \n",
      "\n",
      "Current Working Directory = C:\\Users\\Nitish\\Desktop\\PP\\Python-DS , 12.08.22\\Day13 - 08.09.22\\Python \n",
      "\n",
      "Current Working Directory = C:\\Users\\Nitish\\Desktop\\PP\\Python-DS , 12.08.22\\Day13 - 08.09.22 \n",
      "\n"
     ]
    }
   ],
   "source": [
    "# Creating the fruits.txt file in the Python folder and come back to the parent Folder\n",
    "\n",
    "import os\n",
    "print( f\"Current Working Directory = {os.getcwd()} \\n\" )\n",
    "os.chdir(\"C:\\\\Users\\\\Nitish\\\\Desktop\\\\PP\\\\Python-DS , 12.08.22\\\\Day13 - 08.09.22\\\\Python\")\n",
    "print( f\"Current Working Directory = {os.getcwd()} \\n\" )\n",
    "\n",
    "\n",
    "f = open(\"fruits.txt\", 'w')\n",
    "f.write(\"Mango\")\n",
    "f.write(\"\\n\")\n",
    "f.write(\"apple\")\n",
    "f.write(\"\\n\")\n",
    "f.write(\"banana\")\n",
    "f.write(\"\\n\")\n",
    "f.write(\"grapes\")\n",
    "f.write(\"\\n\")\n",
    "f.write(\"cherry\")\n",
    "\n",
    "f.close()\n",
    "\n",
    "os.chdir(\"..\")  # Come out of the Current Folder\n",
    "print( f\"Current Working Directory = {os.getcwd()} \\n\" )\n",
    "\n"
   ]
  },
  {
   "cell_type": "code",
   "execution_count": null,
   "metadata": {},
   "outputs": [],
   "source": [
    "# 3. Create Directory / Folder\n",
    "\n",
    "# -  It creates the Folder in the same Folder / Path\n",
    "# Syntax : os.mkdir(\"folderName\") \n",
    "# Syntax : os.mkdir(\"path\") "
   ]
  },
  {
   "cell_type": "code",
   "execution_count": 25,
   "metadata": {},
   "outputs": [
    {
     "name": "stdout",
     "output_type": "stream",
     "text": [
      "Current Working Directory = C:\\Users\\Nitish\\Desktop\\PP\\Python-DS , 12.08.22\\Day13 - 08.09.22 \n",
      "\n",
      "Current Working Directory = C:\\Users\\Nitish\\Desktop\\PP\\Python-DS , 12.08.22\\Day13 - 08.09.22\\AnimalsFolder \n",
      "\n",
      "Current Working Directory = C:\\Users\\Nitish\\Desktop\\PP\\Python-DS , 12.08.22\\Day13 - 08.09.22 \n",
      "\n"
     ]
    }
   ],
   "source": [
    "## Create a folder in the same Current Working Directory and \n",
    "# create a new file over there 'animals'\n",
    "\n",
    "\n",
    "import os\n",
    "print( f\"Current Working Directory = {os.getcwd()} \\n\" )\n",
    "\n",
    "folderName = \"AnimalsFolder\"\n",
    "os.mkdir(folderName)\n",
    "\n",
    "# Add a time delay if multiple folders are created in sequence\n",
    "os.chdir(folderName)\n",
    "\n",
    "f = open(\"animals.txt\", 'w')\n",
    "f.write(\"lion\")\n",
    "f.write(\"\\n\")\n",
    "f.write(\"tiger\")\n",
    "f.write(\"\\n\")\n",
    "f.write(\"rabbit\")\n",
    "f.write(\"\\n\")\n",
    "f.write(\"peacock\")\n",
    "f.write(\"\\n\")\n",
    "f.write(\"starfish\")\n",
    "\n",
    "f.close()\n",
    "\n",
    "print( f\"Current Working Directory = {os.getcwd()} \\n\" )\n",
    "os.chdir('..')\n",
    "print( f\"Current Working Directory = {os.getcwd()} \\n\" )\n",
    "\n",
    "\n",
    "\n"
   ]
  },
  {
   "cell_type": "code",
   "execution_count": null,
   "metadata": {},
   "outputs": [],
   "source": []
  },
  {
   "cell_type": "code",
   "execution_count": 26,
   "metadata": {},
   "outputs": [],
   "source": [
    "# 4. Remove Directory / Folder\n",
    "\n",
    "# -  It removes/deletes the Folder in the same Folder / Path\n",
    "# Syntax : os.rmdir(\"folderName\") \n",
    "# Syntax : os.rmdir(\"path\") "
   ]
  },
  {
   "cell_type": "code",
   "execution_count": 29,
   "metadata": {},
   "outputs": [
    {
     "name": "stdout",
     "output_type": "stream",
     "text": [
      "Current Working Directory = C:\\Users\\Nitish\\Desktop\\PP\\Python-DS , 12.08.22\\Day13 - 08.09.22 \n",
      "\n",
      "Current Working Directory = C:\\Users\\Nitish\\Desktop\\PP\\Python-DS , 12.08.22\\Day13 - 08.09.22\\AnimalsFolder \n",
      "\n",
      " animals file is created \n",
      "Current Working Directory = C:\\Users\\Nitish\\Desktop\\PP\\Python-DS , 12.08.22\\Day13 - 08.09.22 \n",
      "\n"
     ]
    }
   ],
   "source": [
    "## Create a folder \"AnimalsFolder\" in the same Current Working Directory and \n",
    "# create a new file over there 'animals'\n",
    "# Delete the Folder \"AnimalsFolder\"\n",
    "\n",
    "import os, time\n",
    "print( f\"Current Working Directory = {os.getcwd()} \\n\" )\n",
    "\n",
    "folderName = \"AnimalsFolder\"\n",
    "os.mkdir(folderName)\n",
    "\n",
    "# Add a time delay if multiple folders are created in sequence\n",
    "os.chdir(folderName)\n",
    "\n",
    "f = open(\"animals.txt\", 'w')\n",
    "f.write(\"lion\")\n",
    "f.write(\"\\n\")\n",
    "f.write(\"tiger\")\n",
    "f.write(\"\\n\")\n",
    "f.write(\"rabbit\")\n",
    "f.write(\"\\n\")\n",
    "f.write(\"peacock\")\n",
    "f.write(\"\\n\")\n",
    "f.write(\"starfish\")\n",
    "\n",
    "f.close()\n",
    "\n",
    "print( f\"Current Working Directory = {os.getcwd()} \\n\" )\n",
    "print(\" animals file is created \")\n",
    "time.sleep(5)\n",
    "os.remove('animals.txt')\n",
    "print(\" animals file is Removed \")\n",
    "time.sleep(8)\n",
    "\n",
    "os.chdir('..')\n",
    "print( f\"Current Working Directory = {os.getcwd()} \\n\" )\n",
    "\n",
    "time.sleep(5)\n",
    "os.rmdir(folderName)\n",
    "\n",
    "\n",
    "\n"
   ]
  },
  {
   "cell_type": "code",
   "execution_count": null,
   "metadata": {},
   "outputs": [],
   "source": []
  },
  {
   "cell_type": "code",
   "execution_count": 30,
   "metadata": {},
   "outputs": [],
   "source": [
    "# 5. Rename Directory / Folder\n",
    "\n",
    "# -  It renames the Folder in the same Folder / Path\n",
    "# Syntax : os.rename(oldName, newName) \n",
    "# Syntax : os.rename(oldPath, newPath) "
   ]
  },
  {
   "cell_type": "code",
   "execution_count": 31,
   "metadata": {},
   "outputs": [],
   "source": [
    "import os, time\n",
    "\n",
    "os.mkdir(\"delhi\")\n",
    "time.sleep(5)\n",
    "\n",
    "os.rename('delhi', 'mumbai')\n",
    "time.sleep(5)\n",
    "\n",
    "os.rmdir(\"mumbai\")\n"
   ]
  },
  {
   "cell_type": "code",
   "execution_count": 34,
   "metadata": {},
   "outputs": [],
   "source": [
    "import os, time\n",
    "\n",
    "os.mkdir(\"C:\\\\Users\\\\Nitish\\\\Desktop\\\\ClassSeptember\\\\delhi\")\n",
    "time.sleep(5)\n",
    "\n",
    "os.rename('C:\\\\Users\\\\Nitish\\\\Desktop\\\\ClassSeptember\\\\delhi', 'C:\\\\Users\\\\Nitish\\\\Desktop\\\\ClassSeptember\\\\mumbai')\n",
    "time.sleep(5)\n",
    "\n",
    "os.rmdir(\"C:\\\\Users\\\\Nitish\\\\Desktop\\\\ClassSeptember\\\\mumbai\")\n"
   ]
  },
  {
   "cell_type": "code",
   "execution_count": null,
   "metadata": {},
   "outputs": [],
   "source": []
  },
  {
   "cell_type": "code",
   "execution_count": 35,
   "metadata": {},
   "outputs": [],
   "source": [
    "# Homework\n",
    "## Module and File Handling\n",
    "\n",
    "# 1. Copy the file \"animals.txt\" from delhi to mumbai folder\n",
    "\n",
    "\n",
    "\n",
    "\n"
   ]
  },
  {
   "cell_type": "code",
   "execution_count": null,
   "metadata": {},
   "outputs": [],
   "source": []
  },
  {
   "cell_type": "code",
   "execution_count": null,
   "metadata": {},
   "outputs": [],
   "source": []
  },
  {
   "attachments": {
    "image.png": {
     "image/png": "[encoded data removed]"
    }
   },
   "cell_type": "markdown",
   "metadata": {},
   "source": [
    "![image.png](attachment:image.png)"
   ]
  },
  {
   "cell_type": "code",
   "execution_count": null,
   "metadata": {},
   "outputs": [],
   "source": [
    "# Homework\n",
    "## Module and File Handling\n",
    "\n",
    "# 1. Copy the file \"animals.txt\" from delhi to mumbai folder\n",
    "# 2. Display all the filenames present inside 'bins' folder. Store only .py files into the list\n"
   ]
  },
  {
   "cell_type": "code",
   "execution_count": null,
   "metadata": {},
   "outputs": [],
   "source": []
  },
  {
   "cell_type": "code",
   "execution_count": null,
   "metadata": {},
   "outputs": [],
   "source": []
  },
  {
   "cell_type": "code",
   "execution_count": null,
   "metadata": {},
   "outputs": [],
   "source": []
  },
  {
   "cell_type": "code",
   "execution_count": null,
   "metadata": {},
   "outputs": [],
   "source": []
  },
  {
   "cell_type": "code",
   "execution_count": null,
   "metadata": {},
   "outputs": [],
   "source": []
  },
  {
   "cell_type": "code",
   "execution_count": null,
   "metadata": {},
   "outputs": [],
   "source": []
  },
  {
   "cell_type": "code",
   "execution_count": null,
   "metadata": {},
   "outputs": [],
   "source": []
  }
 ],
 "metadata": {
  "kernelspec": {
   "display_name": "Python 3",
   "language": "python",
   "name": "python3"
  },
  "language_info": {
   "codemirror_mode": {
    "name": "ipython",
    "version": 3
   },
   "file_extension": ".py",
   "mimetype": "text/x-python",
   "name": "python",
   "nbconvert_exporter": "python",
   "pygments_lexer": "ipython3",
   "version": "3.8.3"
  }
 },
 "nbformat": 4,
 "nbformat_minor": 4
}
